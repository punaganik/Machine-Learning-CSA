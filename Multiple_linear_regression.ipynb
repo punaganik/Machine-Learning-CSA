{
 "cells": [
  {
   "cell_type": "code",
   "execution_count": 92,
   "metadata": {},
   "outputs": [],
   "source": [
    "#numpy which is an number python basically a NUMERICAL COMPUTING TOOL\n",
    "#Pandas is a library to covert in to a dataframes and perform data manupulations\n",
    "#matplotlib is used for plotting the results\n",
    "#seaborn Seaborn is a Python data visualization library based on matplotlib It provides a high-level interface for drawing attractive and informative statistical graphics\n",
    "\n",
    "import numpy as np\n",
    "import pandas as pd\n",
    "import statsmodels.api as sm\n",
    "import matplotlib.pyplot as plt\n",
    "import seaborn as sns"
   ]
  },
  {
   "cell_type": "code",
   "execution_count": 240,
   "metadata": {},
   "outputs": [
    {
     "data": {
      "text/html": [
       "<div>\n",
       "<style scoped>\n",
       "    .dataframe tbody tr th:only-of-type {\n",
       "        vertical-align: middle;\n",
       "    }\n",
       "\n",
       "    .dataframe tbody tr th {\n",
       "        vertical-align: top;\n",
       "    }\n",
       "\n",
       "    .dataframe thead th {\n",
       "        text-align: right;\n",
       "    }\n",
       "</style>\n",
       "<table border=\"1\" class=\"dataframe\">\n",
       "  <thead>\n",
       "    <tr style=\"text-align: right;\">\n",
       "      <th></th>\n",
       "      <th>X1 transaction date</th>\n",
       "      <th>X2 house age</th>\n",
       "      <th>X3 distance to the nearest MRT station</th>\n",
       "      <th>X4 number of convenience stores</th>\n",
       "      <th>X5 latitude</th>\n",
       "      <th>X6 longitude</th>\n",
       "      <th>Y house price of unit area</th>\n",
       "    </tr>\n",
       "  </thead>\n",
       "  <tbody>\n",
       "    <tr>\n",
       "      <th>0</th>\n",
       "      <td>2012.667</td>\n",
       "      <td>7.1</td>\n",
       "      <td>2175.03000</td>\n",
       "      <td>3</td>\n",
       "      <td>24.96305</td>\n",
       "      <td>121.51254</td>\n",
       "      <td>32.1</td>\n",
       "    </tr>\n",
       "    <tr>\n",
       "      <th>1</th>\n",
       "      <td>2012.667</td>\n",
       "      <td>34.5</td>\n",
       "      <td>623.47310</td>\n",
       "      <td>7</td>\n",
       "      <td>24.97933</td>\n",
       "      <td>121.53642</td>\n",
       "      <td>40.3</td>\n",
       "    </tr>\n",
       "    <tr>\n",
       "      <th>2</th>\n",
       "      <td>2012.667</td>\n",
       "      <td>20.4</td>\n",
       "      <td>2469.64500</td>\n",
       "      <td>4</td>\n",
       "      <td>24.96108</td>\n",
       "      <td>121.51046</td>\n",
       "      <td>23.8</td>\n",
       "    </tr>\n",
       "    <tr>\n",
       "      <th>3</th>\n",
       "      <td>2012.667</td>\n",
       "      <td>1.5</td>\n",
       "      <td>23.38284</td>\n",
       "      <td>7</td>\n",
       "      <td>24.96772</td>\n",
       "      <td>121.54102</td>\n",
       "      <td>47.7</td>\n",
       "    </tr>\n",
       "    <tr>\n",
       "      <th>4</th>\n",
       "      <td>2012.667</td>\n",
       "      <td>3.1</td>\n",
       "      <td>383.86240</td>\n",
       "      <td>5</td>\n",
       "      <td>24.98085</td>\n",
       "      <td>121.54391</td>\n",
       "      <td>56.2</td>\n",
       "    </tr>\n",
       "  </tbody>\n",
       "</table>\n",
       "</div>"
      ],
      "text/plain": [
       "   X1 transaction date  X2 house age  X3 distance to the nearest MRT station  \\\n",
       "0             2012.667           7.1                              2175.03000   \n",
       "1             2012.667          34.5                               623.47310   \n",
       "2             2012.667          20.4                              2469.64500   \n",
       "3             2012.667           1.5                                23.38284   \n",
       "4             2012.667           3.1                               383.86240   \n",
       "\n",
       "   X4 number of convenience stores  X5 latitude  X6 longitude  \\\n",
       "0                                3     24.96305     121.51254   \n",
       "1                                7     24.97933     121.53642   \n",
       "2                                4     24.96108     121.51046   \n",
       "3                                7     24.96772     121.54102   \n",
       "4                                5     24.98085     121.54391   \n",
       "\n",
       "   Y house price of unit area  \n",
       "0                        32.1  \n",
       "1                        40.3  \n",
       "2                        23.8  \n",
       "3                        47.7  \n",
       "4                        56.2  "
      ]
     },
     "execution_count": 240,
     "metadata": {},
     "output_type": "execute_result"
    }
   ],
   "source": [
    "#Extract data from csv files using pandas\n",
    "land_price = pd.read_csv('C:/Users/Karthik/Desktop/Python/Land_cost.csv')\n",
    "\n",
    "#can print data using print(),.head(),display()\n",
    "land_price.head()"
   ]
  },
  {
   "cell_type": "code",
   "execution_count": 258,
   "metadata": {},
   "outputs": [],
   "source": [
    "#Splitting dependent and independent varaibles(y and x values)\n",
    "X= land_price.iloc [:,:6].values\n",
    "Y= land_price.iloc [: ,-1].values"
   ]
  },
  {
   "cell_type": "code",
   "execution_count": 259,
   "metadata": {},
   "outputs": [
    {
     "data": {
      "text/html": [
       "<div>\n",
       "<style scoped>\n",
       "    .dataframe tbody tr th:only-of-type {\n",
       "        vertical-align: middle;\n",
       "    }\n",
       "\n",
       "    .dataframe tbody tr th {\n",
       "        vertical-align: top;\n",
       "    }\n",
       "\n",
       "    .dataframe thead th {\n",
       "        text-align: right;\n",
       "    }\n",
       "</style>\n",
       "<table border=\"1\" class=\"dataframe\">\n",
       "  <thead>\n",
       "    <tr style=\"text-align: right;\">\n",
       "      <th></th>\n",
       "      <th>X1 transaction date</th>\n",
       "      <th>X2 house age</th>\n",
       "      <th>X3 distance to the nearest MRT station</th>\n",
       "      <th>X4 number of convenience stores</th>\n",
       "      <th>X5 latitude</th>\n",
       "      <th>X6 longitude</th>\n",
       "      <th>Y house price of unit area</th>\n",
       "    </tr>\n",
       "  </thead>\n",
       "  <tbody>\n",
       "    <tr>\n",
       "      <th>count</th>\n",
       "      <td>414.000000</td>\n",
       "      <td>414.000000</td>\n",
       "      <td>414.000000</td>\n",
       "      <td>414.000000</td>\n",
       "      <td>414.000000</td>\n",
       "      <td>414.000000</td>\n",
       "      <td>414.000000</td>\n",
       "    </tr>\n",
       "    <tr>\n",
       "      <th>mean</th>\n",
       "      <td>2013.148971</td>\n",
       "      <td>17.712560</td>\n",
       "      <td>1083.885689</td>\n",
       "      <td>4.094203</td>\n",
       "      <td>24.969030</td>\n",
       "      <td>121.533361</td>\n",
       "      <td>37.980193</td>\n",
       "    </tr>\n",
       "    <tr>\n",
       "      <th>std</th>\n",
       "      <td>0.281967</td>\n",
       "      <td>11.392485</td>\n",
       "      <td>1262.109595</td>\n",
       "      <td>2.945562</td>\n",
       "      <td>0.012410</td>\n",
       "      <td>0.015347</td>\n",
       "      <td>13.606488</td>\n",
       "    </tr>\n",
       "    <tr>\n",
       "      <th>min</th>\n",
       "      <td>2012.667000</td>\n",
       "      <td>0.000000</td>\n",
       "      <td>23.382840</td>\n",
       "      <td>0.000000</td>\n",
       "      <td>24.932070</td>\n",
       "      <td>121.473530</td>\n",
       "      <td>7.600000</td>\n",
       "    </tr>\n",
       "    <tr>\n",
       "      <th>25%</th>\n",
       "      <td>2012.917000</td>\n",
       "      <td>9.025000</td>\n",
       "      <td>289.324800</td>\n",
       "      <td>1.000000</td>\n",
       "      <td>24.963000</td>\n",
       "      <td>121.528085</td>\n",
       "      <td>27.700000</td>\n",
       "    </tr>\n",
       "    <tr>\n",
       "      <th>50%</th>\n",
       "      <td>2013.167000</td>\n",
       "      <td>16.100000</td>\n",
       "      <td>492.231300</td>\n",
       "      <td>4.000000</td>\n",
       "      <td>24.971100</td>\n",
       "      <td>121.538630</td>\n",
       "      <td>38.450000</td>\n",
       "    </tr>\n",
       "    <tr>\n",
       "      <th>75%</th>\n",
       "      <td>2013.417000</td>\n",
       "      <td>28.150000</td>\n",
       "      <td>1454.279000</td>\n",
       "      <td>6.000000</td>\n",
       "      <td>24.977455</td>\n",
       "      <td>121.543305</td>\n",
       "      <td>46.600000</td>\n",
       "    </tr>\n",
       "    <tr>\n",
       "      <th>max</th>\n",
       "      <td>2013.583000</td>\n",
       "      <td>43.800000</td>\n",
       "      <td>6488.021000</td>\n",
       "      <td>10.000000</td>\n",
       "      <td>25.014590</td>\n",
       "      <td>121.566270</td>\n",
       "      <td>117.500000</td>\n",
       "    </tr>\n",
       "  </tbody>\n",
       "</table>\n",
       "</div>"
      ],
      "text/plain": [
       "       X1 transaction date  X2 house age  \\\n",
       "count           414.000000    414.000000   \n",
       "mean           2013.148971     17.712560   \n",
       "std               0.281967     11.392485   \n",
       "min            2012.667000      0.000000   \n",
       "25%            2012.917000      9.025000   \n",
       "50%            2013.167000     16.100000   \n",
       "75%            2013.417000     28.150000   \n",
       "max            2013.583000     43.800000   \n",
       "\n",
       "       X3 distance to the nearest MRT station  \\\n",
       "count                              414.000000   \n",
       "mean                              1083.885689   \n",
       "std                               1262.109595   \n",
       "min                                 23.382840   \n",
       "25%                                289.324800   \n",
       "50%                                492.231300   \n",
       "75%                               1454.279000   \n",
       "max                               6488.021000   \n",
       "\n",
       "       X4 number of convenience stores  X5 latitude  X6 longitude  \\\n",
       "count                       414.000000   414.000000    414.000000   \n",
       "mean                          4.094203    24.969030    121.533361   \n",
       "std                           2.945562     0.012410      0.015347   \n",
       "min                           0.000000    24.932070    121.473530   \n",
       "25%                           1.000000    24.963000    121.528085   \n",
       "50%                           4.000000    24.971100    121.538630   \n",
       "75%                           6.000000    24.977455    121.543305   \n",
       "max                          10.000000    25.014590    121.566270   \n",
       "\n",
       "       Y house price of unit area  \n",
       "count                  414.000000  \n",
       "mean                    37.980193  \n",
       "std                     13.606488  \n",
       "min                      7.600000  \n",
       "25%                     27.700000  \n",
       "50%                     38.450000  \n",
       "75%                     46.600000  \n",
       "max                    117.500000  "
      ]
     },
     "execution_count": 259,
     "metadata": {},
     "output_type": "execute_result"
    }
   ],
   "source": [
    "land_price.describe(include='all')"
   ]
  },
  {
   "cell_type": "code",
   "execution_count": 260,
   "metadata": {},
   "outputs": [
    {
     "data": {
      "text/plain": [
       "X1 transaction date                       0\n",
       "X2 house age                              0\n",
       "X3 distance to the nearest MRT station    0\n",
       "X4 number of convenience stores           0\n",
       "X5 latitude                               0\n",
       "X6 longitude                              0\n",
       "Y house price of unit area                0\n",
       "dtype: int64"
      ]
     },
     "execution_count": 260,
     "metadata": {},
     "output_type": "execute_result"
    }
   ],
   "source": [
    "land_price.isnull().sum()"
   ]
  },
  {
   "cell_type": "code",
   "execution_count": 261,
   "metadata": {},
   "outputs": [
    {
     "data": {
      "text/plain": [
       "array([[2.0126670e+03, 7.1000000e+00, 2.1750300e+03, 3.0000000e+00,\n",
       "        2.4963050e+01, 1.2151254e+02],\n",
       "       [2.0126670e+03, 3.4500000e+01, 6.2347310e+02, 7.0000000e+00,\n",
       "        2.4979330e+01, 1.2153642e+02],\n",
       "       [2.0126670e+03, 2.0400000e+01, 2.4696450e+03, 4.0000000e+00,\n",
       "        2.4961080e+01, 1.2151046e+02],\n",
       "       ...,\n",
       "       [2.0135830e+03, 2.7300000e+01, 3.3760160e+02, 6.0000000e+00,\n",
       "        2.4964310e+01, 1.2154063e+02],\n",
       "       [2.0135830e+03, 1.7400000e+01, 6.4880210e+03, 1.0000000e+00,\n",
       "        2.4957190e+01, 1.2147353e+02],\n",
       "       [2.0135830e+03, 6.2000000e+00, 1.9397490e+03, 1.0000000e+00,\n",
       "        2.4951550e+01, 1.2155387e+02]])"
      ]
     },
     "metadata": {},
     "output_type": "display_data"
    }
   ],
   "source": [
    "display(X)"
   ]
  },
  {
   "cell_type": "code",
   "execution_count": 262,
   "metadata": {},
   "outputs": [
    {
     "data": {
      "text/plain": [
       "array([ 32.1,  40.3,  23.8,  47.7,  56.2,  47.7,  13.2,  30.5,  53.3,\n",
       "        42.2,  42.5,  39.7,  37.4,  15.5,  46.1,  25.9,  51.8,  26.5,\n",
       "        49.7,  42.5,  31.3,  53.5,  37.9,  47.1,  22.8,  40.3,  31.9,\n",
       "        39.7,  37.2,  50. ,  37.4,  25. ,  34.2,  55.1,  34.1,  50.8,\n",
       "        45.7,  46.8,  52.2,  43.2,  11.6,  21.8,  21.5,  26.2,  40.2,\n",
       "        39.3,  40.5,  44. ,  34.1,  35.7,  37.5,  18.6,  38.4,  47. ,\n",
       "        24.8,  42.1,  12.9,  43.1,  13.7,  42. ,  25.6,  27. ,  45.4,\n",
       "        32.9,  71. ,  39.5,  55.2,  19.2,  40.9,  14.7,  33.4,  15. ,\n",
       "        52.7,  38.1,  41.1,  54.4,  28.5,  24.7,  23.6,  35.6,  30.9,\n",
       "        53.7,  28.6,  25.7,  45.3,  20.9,  55.3,  28.5,  37.9,  42.2,\n",
       "        39.3,  24.6,  22.9,  53.5,  27.7,  54.4,  29.8,  17.7,  48. ,\n",
       "        21.8,  16.1,  41. ,  51.8,  57.4,  20.8,  45.5,  57.8,  30.6,\n",
       "        44.3,  20.5,  31.5,  40.8,  40.2,  17.4,  13.8,  53. ,  26.5,\n",
       "        25.6,  34.4,  56.3,  37.7,  22.8,  36.3,  29.5,  42.5,  37.3,\n",
       "        38.8,  15.9,  50.7,  26.5,  36.8,  12.2,  13. ,  39.4,  22. ,\n",
       "        36.6,  26.6,  12.8,  22.3,  23. ,  34. ,  32.9,  33.1,  19.2,\n",
       "        37. ,  46.6,  42.3,  41.5,  29.3,  46.6,  40.3,  22.3,  15.4,\n",
       "        52.5,  41.4,  47.9,  27. ,  57.1,  38.3,  20.7,  38.9,  51.7,\n",
       "        42.4,  40.8,  48.1,  43.7,  34.6,  54.4,  47.1,  51.6,  46.4,\n",
       "        62.9,  60.7,  28.4,  37.4,  58.8,  35.1,  36.5,  42. ,  42.6,\n",
       "        39.1,  21.4,  34.2,  43.5,  58. ,  40.6,  28.8,  21.7,  28.8,\n",
       "        37. ,  24.5,  36.9,  55. ,  27.3,  38.1,  12.8,  63.3,  52.2,\n",
       "        35.3,  27.7,  25.3,  46.2,  20. ,  31.3,  48.6,  37.5,  43.5,\n",
       "        15.6,  55.9,  25.7,  37.8,  42.7,  61.9,  39. ,  30. ,  24.4,\n",
       "        40.6,  41. ,  55.3,  21.8,  46.1,  42.2,  39.6,  45.1,  40.5,\n",
       "        70.1,  33.6,  49.3,  43.2,  32.5,  55. ,  37.5,  51.4,  48.5,\n",
       "        40.9,  35.6,  48.2,  44. ,  39.7,  42.3,  49. ,  23.9,  43.9,\n",
       "        30.7,  23.7,  45.4,  19.1,  41.6,  42. ,  26.9,  60.7,  49.5,\n",
       "        23.8,  25.6,  67.7,  35.5,  40.6,  58.1,  25.3,  26.6,   7.6,\n",
       "        28.9,  28.9,  14.4,  34.6,  31.1,  48.1,  78.3,  38.5,  46. ,\n",
       "        32.4,  23.1, 117.5,  44.8,  44.5,  16.7,  42.8,  49.8,  15.6,\n",
       "        50.4,  42.9,  56.8,  37.4,  69.7,  53.3,  41.2,  46.7,  22.1,\n",
       "        42.3,  29.3,  51.6,  34.7,  42. ,  13.4,  44.2,  41.9,  21.3,\n",
       "        44.3,  36.2,  59.5,  51. ,  62.2,  34.1,  23.1,  45.5,  41. ,\n",
       "        37.5,  39.6,  73.6,  43.4,  23.5,  45.2,  49.3,  31.6,  25.5,\n",
       "        45.9,  43.8,  46.6,  48.2,  40.8,  40.6,  17.4,  63.3,  31.7,\n",
       "        40.1,  29.3,  27.7,  31.1,  23.5,  29.4,  53. ,  42.5,  36.7,\n",
       "        30.8,  30.1,  44.9,  40. ,  33.1,  43.1,  30.5,  47.3,  32.2,\n",
       "        23. ,  28.1,  54.8,  18.8,  34.3,  47. ,  22.1,  27.3,  18.2,\n",
       "        22.6,  63.2,  56.8,  29.5,  40.3,  25.3,  38.2,  30.6,  59.6,\n",
       "        48. ,  30.7,  47.4,  40.1,  45.1,  44.7,  20.7,  55.5,  36.7,\n",
       "        23.6,  18.8,  42.3,  29.3,  52.2,  33.4,  29.7,  41.4,  38.1,\n",
       "        23.2,  38.4,  50.2,  62.1,  41.2,  31.3,  24.7,  48. ,  51.7,\n",
       "        27.3,  38.6,  24.7,  63.9,  47.3,  50.5,  53.9,  61.5,  27. ,\n",
       "        55. ,  59. ,  36.3,  36.8,  18.3,  28.4,  39.4,  18.3,  58.1,\n",
       "        20.9,  48.5,  19. ,  51. ,  24.7,  78. ,  36.5,  11.2,  31.3])"
      ]
     },
     "metadata": {},
     "output_type": "display_data"
    }
   ],
   "source": [
    "display(Y)"
   ]
  },
  {
   "cell_type": "code",
   "execution_count": 263,
   "metadata": {},
   "outputs": [],
   "source": [
    "from sklearn. model_selection import train_test_split\n",
    "X_train, X_test, Y_train, Y_test=train_test_split(X,Y,test_size=0.2,random_state=0)\n"
   ]
  },
  {
   "cell_type": "code",
   "execution_count": 264,
   "metadata": {},
   "outputs": [
    {
     "name": "stdout",
     "output_type": "stream",
     "text": [
      "LinearRegression(copy_X=True, fit_intercept=True, n_jobs=None, normalize=False)\n"
     ]
    }
   ],
   "source": [
    "from sklearn.linear_model import LinearRegression\n",
    "regressor =LinearRegression()\n",
    "print(regressor)"
   ]
  },
  {
   "cell_type": "code",
   "execution_count": 265,
   "metadata": {},
   "outputs": [
    {
     "data": {
      "text/plain": [
       "LinearRegression(copy_X=True, fit_intercept=True, n_jobs=None, normalize=False)"
      ]
     },
     "execution_count": 265,
     "metadata": {},
     "output_type": "execute_result"
    }
   ],
   "source": [
    "###Train the model\n",
    "regressor.fit(X_train, Y_train) "
   ]
  },
  {
   "cell_type": "code",
   "execution_count": 266,
   "metadata": {},
   "outputs": [],
   "source": [
    "##Test the Model\n",
    "Y_pred=regressor.predict(X_test)"
   ]
  },
  {
   "cell_type": "code",
   "execution_count": 250,
   "metadata": {},
   "outputs": [
    {
     "name": "stdout",
     "output_type": "stream",
     "text": [
      "[17.04884484 39.03860005 49.55101668 44.79086195 42.5884332  42.83095244\n",
      " 42.16118334 39.72478448 49.52479134 39.07506078 43.7808634  44.9957828\n",
      " 45.7826962  38.88748047 13.77635367 34.80379545 40.82854785 46.14722627\n",
      " 39.3151057  33.55793806 34.490489   43.93916245 33.14761321 26.74709629\n",
      " 42.88884931 47.57101852 33.02627801 31.63588766 36.38284858 42.14760271\n",
      " 44.44897242 38.58233389 41.10975906 26.33141833 32.72285678 33.59091768\n",
      " 53.58087026 37.96239806 37.19334885 36.71775625 44.84454304 34.12369338\n",
      " 33.18620193 44.24887909 43.79147627 44.90493488 30.84719919 29.93993667\n",
      " 28.41689015 31.53693771 32.78609748  9.53163189 38.82135747 45.96289793\n",
      " 38.91919762 44.44021963 45.33145013 13.56418527 42.45422573 32.67395878\n",
      " 39.66182398 47.54840216 39.75664513 39.72602774 23.12703982 33.47103699\n",
      " 30.23096411 43.56938271 28.88135157 43.63951047 38.18204682 45.85559744\n",
      " 47.99807417 47.62546164 42.62688603 48.97000626 44.22359857 38.0989505\n",
      " 51.64589128 24.79667127 36.12610868 40.18790855 41.62848858] [25.3 46.4 40.5 42.5 37.5 29.3 40.3 42.5 53.5 38.5 43.8 42.  39.4 35.3\n",
      " 22.1 28.5 34.6 48.1 37.4 28.8 23.  46.8 30.1 24.8 46.6 53.3 27.7 25.6\n",
      " 33.4 39.6 42.3 42.3 39.3 25.9 23.1 29.5 59.5 32.9 41.1 26.9 38.2 23.6\n",
      " 23.5 40.1 36.2 52.5 21.8 24.7 25.6 27.7 31.3 13.2 40.3 43.4 37.  44.3\n",
      " 40.3 13.  35.6 26.6 24.5 39.5 42.6 42.5 22.  28.8 35.7 38.4 31.9 39.3\n",
      " 36.6 56.2 46.1 55.5 36.3 55.  47.7 35.1 73.6 16.1 30.5 37.9 40.9]\n"
     ]
    }
   ],
   "source": [
    "print(Y_pred,Y_test)"
   ]
  },
  {
   "cell_type": "code",
   "execution_count": 267,
   "metadata": {},
   "outputs": [
    {
     "name": "stdout",
     "output_type": "stream",
     "text": [
      "0.663704053346746\n"
     ]
    }
   ],
   "source": [
    "##Calculating the score\n",
    "from sklearn.metrics import r2_score\n",
    "score=r2_score(Y_test,Y_pred)\n",
    "print(score)"
   ]
  },
  {
   "cell_type": "code",
   "execution_count": 268,
   "metadata": {},
   "outputs": [
    {
     "data": {
      "text/html": [
       "<div>\n",
       "<style scoped>\n",
       "    .dataframe tbody tr th:only-of-type {\n",
       "        vertical-align: middle;\n",
       "    }\n",
       "\n",
       "    .dataframe tbody tr th {\n",
       "        vertical-align: top;\n",
       "    }\n",
       "\n",
       "    .dataframe thead th {\n",
       "        text-align: right;\n",
       "    }\n",
       "</style>\n",
       "<table border=\"1\" class=\"dataframe\">\n",
       "  <thead>\n",
       "    <tr style=\"text-align: right;\">\n",
       "      <th></th>\n",
       "      <th>0</th>\n",
       "      <th>Predicted_Price_Unit_Area</th>\n",
       "    </tr>\n",
       "  </thead>\n",
       "  <tbody>\n",
       "    <tr>\n",
       "      <th>0</th>\n",
       "      <td>25.3</td>\n",
       "      <td>17.120085</td>\n",
       "    </tr>\n",
       "    <tr>\n",
       "      <th>1</th>\n",
       "      <td>46.4</td>\n",
       "      <td>38.716838</td>\n",
       "    </tr>\n",
       "    <tr>\n",
       "      <th>2</th>\n",
       "      <td>40.5</td>\n",
       "      <td>49.546424</td>\n",
       "    </tr>\n",
       "    <tr>\n",
       "      <th>3</th>\n",
       "      <td>42.5</td>\n",
       "      <td>44.713916</td>\n",
       "    </tr>\n",
       "    <tr>\n",
       "      <th>4</th>\n",
       "      <td>37.5</td>\n",
       "      <td>42.346796</td>\n",
       "    </tr>\n",
       "  </tbody>\n",
       "</table>\n",
       "</div>"
      ],
      "text/plain": [
       "      0  Predicted_Price_Unit_Area\n",
       "0  25.3                  17.120085\n",
       "1  46.4                  38.716838\n",
       "2  40.5                  49.546424\n",
       "3  42.5                  44.713916\n",
       "4  37.5                  42.346796"
      ]
     },
     "execution_count": 268,
     "metadata": {},
     "output_type": "execute_result"
    }
   ],
   "source": [
    "Y_test = pd.DataFrame(Y_test)\n",
    "Y_test['Predicted_Price_Unit_Area'] = Y_pred\n",
    "Y_test.head()\n"
   ]
  },
  {
   "cell_type": "code",
   "execution_count": 269,
   "metadata": {},
   "outputs": [
    {
     "data": {
      "text/html": [
       "<div>\n",
       "<style scoped>\n",
       "    .dataframe tbody tr th:only-of-type {\n",
       "        vertical-align: middle;\n",
       "    }\n",
       "\n",
       "    .dataframe tbody tr th {\n",
       "        vertical-align: top;\n",
       "    }\n",
       "\n",
       "    .dataframe thead th {\n",
       "        text-align: right;\n",
       "    }\n",
       "</style>\n",
       "<table border=\"1\" class=\"dataframe\">\n",
       "  <thead>\n",
       "    <tr style=\"text-align: right;\">\n",
       "      <th></th>\n",
       "      <th>X1 transaction date</th>\n",
       "      <th>X2 house age</th>\n",
       "      <th>X3 distance to the nearest MRT station</th>\n",
       "      <th>X4 number of convenience stores</th>\n",
       "      <th>X5 latitude</th>\n",
       "      <th>X6 longitude</th>\n",
       "      <th>Y house price of unit area</th>\n",
       "      <th>Predicted_Price_Unit_Area</th>\n",
       "    </tr>\n",
       "  </thead>\n",
       "  <tbody>\n",
       "    <tr>\n",
       "      <th>0</th>\n",
       "      <td>2012.667</td>\n",
       "      <td>7.1</td>\n",
       "      <td>2175.03000</td>\n",
       "      <td>3</td>\n",
       "      <td>24.96305</td>\n",
       "      <td>121.51254</td>\n",
       "      <td>32.1</td>\n",
       "      <td>31.058585</td>\n",
       "    </tr>\n",
       "    <tr>\n",
       "      <th>1</th>\n",
       "      <td>2012.667</td>\n",
       "      <td>34.5</td>\n",
       "      <td>623.47310</td>\n",
       "      <td>7</td>\n",
       "      <td>24.97933</td>\n",
       "      <td>121.53642</td>\n",
       "      <td>40.3</td>\n",
       "      <td>38.815891</td>\n",
       "    </tr>\n",
       "    <tr>\n",
       "      <th>2</th>\n",
       "      <td>2012.667</td>\n",
       "      <td>20.4</td>\n",
       "      <td>2469.64500</td>\n",
       "      <td>4</td>\n",
       "      <td>24.96108</td>\n",
       "      <td>121.51046</td>\n",
       "      <td>23.8</td>\n",
       "      <td>27.050247</td>\n",
       "    </tr>\n",
       "    <tr>\n",
       "      <th>3</th>\n",
       "      <td>2012.667</td>\n",
       "      <td>1.5</td>\n",
       "      <td>23.38284</td>\n",
       "      <td>7</td>\n",
       "      <td>24.96772</td>\n",
       "      <td>121.54102</td>\n",
       "      <td>47.7</td>\n",
       "      <td>47.459799</td>\n",
       "    </tr>\n",
       "    <tr>\n",
       "      <th>4</th>\n",
       "      <td>2012.667</td>\n",
       "      <td>3.1</td>\n",
       "      <td>383.86240</td>\n",
       "      <td>5</td>\n",
       "      <td>24.98085</td>\n",
       "      <td>121.54391</td>\n",
       "      <td>56.2</td>\n",
       "      <td>45.724279</td>\n",
       "    </tr>\n",
       "  </tbody>\n",
       "</table>\n",
       "</div>"
      ],
      "text/plain": [
       "   X1 transaction date  X2 house age  X3 distance to the nearest MRT station  \\\n",
       "0             2012.667           7.1                              2175.03000   \n",
       "1             2012.667          34.5                               623.47310   \n",
       "2             2012.667          20.4                              2469.64500   \n",
       "3             2012.667           1.5                                23.38284   \n",
       "4             2012.667           3.1                               383.86240   \n",
       "\n",
       "   X4 number of convenience stores  X5 latitude  X6 longitude  \\\n",
       "0                                3     24.96305     121.51254   \n",
       "1                                7     24.97933     121.53642   \n",
       "2                                4     24.96108     121.51046   \n",
       "3                                7     24.96772     121.54102   \n",
       "4                                5     24.98085     121.54391   \n",
       "\n",
       "   Y house price of unit area  Predicted_Price_Unit_Area  \n",
       "0                        32.1                  31.058585  \n",
       "1                        40.3                  38.815891  \n",
       "2                        23.8                  27.050247  \n",
       "3                        47.7                  47.459799  \n",
       "4                        56.2                  45.724279  "
      ]
     },
     "execution_count": 269,
     "metadata": {},
     "output_type": "execute_result"
    }
   ],
   "source": [
    "land_price['Predicted_Price_Unit_Area'] = regressor.predict(X)\n",
    "land_price.head(5)"
   ]
  },
  {
   "cell_type": "code",
   "execution_count": 270,
   "metadata": {},
   "outputs": [
    {
     "data": {
      "text/html": [
       "<div>\n",
       "<style scoped>\n",
       "    .dataframe tbody tr th:only-of-type {\n",
       "        vertical-align: middle;\n",
       "    }\n",
       "\n",
       "    .dataframe tbody tr th {\n",
       "        vertical-align: top;\n",
       "    }\n",
       "\n",
       "    .dataframe thead th {\n",
       "        text-align: right;\n",
       "    }\n",
       "</style>\n",
       "<table border=\"1\" class=\"dataframe\">\n",
       "  <thead>\n",
       "    <tr style=\"text-align: right;\">\n",
       "      <th></th>\n",
       "      <th>X1 transaction date</th>\n",
       "      <th>X2 house age</th>\n",
       "      <th>X3 distance to the nearest MRT station</th>\n",
       "      <th>X4 number of convenience stores</th>\n",
       "      <th>X5 latitude</th>\n",
       "      <th>X6 longitude</th>\n",
       "      <th>Y house price of unit area</th>\n",
       "    </tr>\n",
       "  </thead>\n",
       "  <tbody>\n",
       "    <tr>\n",
       "      <th>X1 transaction date</th>\n",
       "      <td>1.000000</td>\n",
       "      <td>0.017549</td>\n",
       "      <td>0.060880</td>\n",
       "      <td>0.009635</td>\n",
       "      <td>0.035058</td>\n",
       "      <td>-0.041082</td>\n",
       "      <td>0.087491</td>\n",
       "    </tr>\n",
       "    <tr>\n",
       "      <th>X2 house age</th>\n",
       "      <td>0.017549</td>\n",
       "      <td>1.000000</td>\n",
       "      <td>0.025622</td>\n",
       "      <td>0.049593</td>\n",
       "      <td>0.054420</td>\n",
       "      <td>-0.048520</td>\n",
       "      <td>-0.210567</td>\n",
       "    </tr>\n",
       "    <tr>\n",
       "      <th>X3 distance to the nearest MRT station</th>\n",
       "      <td>0.060880</td>\n",
       "      <td>0.025622</td>\n",
       "      <td>1.000000</td>\n",
       "      <td>-0.602519</td>\n",
       "      <td>-0.591067</td>\n",
       "      <td>-0.806317</td>\n",
       "      <td>-0.673613</td>\n",
       "    </tr>\n",
       "    <tr>\n",
       "      <th>X4 number of convenience stores</th>\n",
       "      <td>0.009635</td>\n",
       "      <td>0.049593</td>\n",
       "      <td>-0.602519</td>\n",
       "      <td>1.000000</td>\n",
       "      <td>0.444143</td>\n",
       "      <td>0.449099</td>\n",
       "      <td>0.571005</td>\n",
       "    </tr>\n",
       "    <tr>\n",
       "      <th>X5 latitude</th>\n",
       "      <td>0.035058</td>\n",
       "      <td>0.054420</td>\n",
       "      <td>-0.591067</td>\n",
       "      <td>0.444143</td>\n",
       "      <td>1.000000</td>\n",
       "      <td>0.412924</td>\n",
       "      <td>0.546307</td>\n",
       "    </tr>\n",
       "    <tr>\n",
       "      <th>X6 longitude</th>\n",
       "      <td>-0.041082</td>\n",
       "      <td>-0.048520</td>\n",
       "      <td>-0.806317</td>\n",
       "      <td>0.449099</td>\n",
       "      <td>0.412924</td>\n",
       "      <td>1.000000</td>\n",
       "      <td>0.523287</td>\n",
       "    </tr>\n",
       "    <tr>\n",
       "      <th>Y house price of unit area</th>\n",
       "      <td>0.087491</td>\n",
       "      <td>-0.210567</td>\n",
       "      <td>-0.673613</td>\n",
       "      <td>0.571005</td>\n",
       "      <td>0.546307</td>\n",
       "      <td>0.523287</td>\n",
       "      <td>1.000000</td>\n",
       "    </tr>\n",
       "  </tbody>\n",
       "</table>\n",
       "</div>"
      ],
      "text/plain": [
       "                                        X1 transaction date  X2 house age  \\\n",
       "X1 transaction date                                1.000000      0.017549   \n",
       "X2 house age                                       0.017549      1.000000   \n",
       "X3 distance to the nearest MRT station             0.060880      0.025622   \n",
       "X4 number of convenience stores                    0.009635      0.049593   \n",
       "X5 latitude                                        0.035058      0.054420   \n",
       "X6 longitude                                      -0.041082     -0.048520   \n",
       "Y house price of unit area                         0.087491     -0.210567   \n",
       "\n",
       "                                        X3 distance to the nearest MRT station  \\\n",
       "X1 transaction date                                                   0.060880   \n",
       "X2 house age                                                          0.025622   \n",
       "X3 distance to the nearest MRT station                                1.000000   \n",
       "X4 number of convenience stores                                      -0.602519   \n",
       "X5 latitude                                                          -0.591067   \n",
       "X6 longitude                                                         -0.806317   \n",
       "Y house price of unit area                                           -0.673613   \n",
       "\n",
       "                                        X4 number of convenience stores  \\\n",
       "X1 transaction date                                            0.009635   \n",
       "X2 house age                                                   0.049593   \n",
       "X3 distance to the nearest MRT station                        -0.602519   \n",
       "X4 number of convenience stores                                1.000000   \n",
       "X5 latitude                                                    0.444143   \n",
       "X6 longitude                                                   0.449099   \n",
       "Y house price of unit area                                     0.571005   \n",
       "\n",
       "                                        X5 latitude  X6 longitude  \\\n",
       "X1 transaction date                        0.035058     -0.041082   \n",
       "X2 house age                               0.054420     -0.048520   \n",
       "X3 distance to the nearest MRT station    -0.591067     -0.806317   \n",
       "X4 number of convenience stores            0.444143      0.449099   \n",
       "X5 latitude                                1.000000      0.412924   \n",
       "X6 longitude                               0.412924      1.000000   \n",
       "Y house price of unit area                 0.546307      0.523287   \n",
       "\n",
       "                                        Y house price of unit area  \n",
       "X1 transaction date                                       0.087491  \n",
       "X2 house age                                             -0.210567  \n",
       "X3 distance to the nearest MRT station                   -0.673613  \n",
       "X4 number of convenience stores                           0.571005  \n",
       "X5 latitude                                               0.546307  \n",
       "X6 longitude                                              0.523287  \n",
       "Y house price of unit area                                1.000000  "
      ]
     },
     "execution_count": 270,
     "metadata": {},
     "output_type": "execute_result"
    }
   ],
   "source": [
    "##Multicollonearity between all features\n",
    "land_price_Corr = pd.read_csv('C:/Users/Karthik/Desktop/Python/Land_cost.csv')\n",
    "land_price_Corr.corr()"
   ]
  },
  {
   "cell_type": "code",
   "execution_count": 281,
   "metadata": {},
   "outputs": [],
   "source": [
    "X1= land_price_Corr.iloc [:,:5].values\n",
    "Y1= land_price_Corr.iloc [: ,-1].values"
   ]
  },
  {
   "cell_type": "code",
   "execution_count": 295,
   "metadata": {},
   "outputs": [
    {
     "data": {
      "text/plain": [
       "LinearRegression(copy_X=True, fit_intercept=True, n_jobs=None, normalize=False)"
      ]
     },
     "execution_count": 295,
     "metadata": {},
     "output_type": "execute_result"
    }
   ],
   "source": [
    "from sklearn. model_selection import train_test_split\n",
    "X_train_corr, X_test_corr, Y_train_corr, Y_test_corr=train_test_split(X1,Y1,test_size=0.2,random_state=0)\n",
    "from sklearn.linear_model import LinearRegression\n",
    "regressor =LinearRegression()\n",
    "regressor.fit(X_train_corr, Y_train_corr) "
   ]
  },
  {
   "cell_type": "code",
   "execution_count": 298,
   "metadata": {},
   "outputs": [],
   "source": [
    "Y_pred_corr=regressor.predict(X_test_corr)"
   ]
  },
  {
   "cell_type": "code",
   "execution_count": 302,
   "metadata": {},
   "outputs": [
    {
     "name": "stdout",
     "output_type": "stream",
     "text": [
      "0.6652493332604374\n"
     ]
    }
   ],
   "source": [
    "from sklearn.metrics import r2_score\n",
    "score=r2_score(Y_test_corr,Y_pred_corr)\n",
    "print(score)"
   ]
  },
  {
   "cell_type": "code",
   "execution_count": 301,
   "metadata": {},
   "outputs": [
    {
     "data": {
      "text/plain": [
       "0.702884752084026"
      ]
     },
     "execution_count": 301,
     "metadata": {},
     "output_type": "execute_result"
    }
   ],
   "source": [
    "###Tuning on Plynomialfeatures\n",
    "from sklearn.preprocessing import PolynomialFeatures\n",
    "pf = PolynomialFeatures(degree=2)\n",
    "X_poly = pf.fit_transform(X1)\n",
    "X_poly_train , X_poly_test ,Y_poly_train , Y_poly_test = train_test_split(X_poly,Y,test_size =0.2 , random_state = 0)\n",
    "LM_poly = LinearRegression()\n",
    "LM_poly.fit(X_poly_train,Y_poly_train)\n",
    "LM_poly.score(X_poly_test ,Y_poly_test)"
   ]
  }
 ],
 "metadata": {
  "kernelspec": {
   "display_name": "Python 3",
   "language": "python",
   "name": "python3"
  },
  "language_info": {
   "codemirror_mode": {
    "name": "ipython",
    "version": 3
   },
   "file_extension": ".py",
   "mimetype": "text/x-python",
   "name": "python",
   "nbconvert_exporter": "python",
   "pygments_lexer": "ipython3",
   "version": "3.7.3"
  }
 },
 "nbformat": 4,
 "nbformat_minor": 2
}
